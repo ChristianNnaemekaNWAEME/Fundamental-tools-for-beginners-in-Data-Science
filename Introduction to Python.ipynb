{
 "cells": [
  {
   "cell_type": "code",
   "execution_count": 1,
   "id": "3d0c77fe",
   "metadata": {},
   "outputs": [
    {
     "name": "stdout",
     "output_type": "stream",
     "text": [
      "0\n",
      "1\n",
      "2\n",
      "3\n",
      "4\n"
     ]
    }
   ],
   "source": [
    "for i in range(0,5):\n",
    "    print(i)"
   ]
  },
  {
   "cell_type": "code",
   "execution_count": 2,
   "id": "5738a333",
   "metadata": {
    "scrolled": true
   },
   "outputs": [
    {
     "name": "stdout",
     "output_type": "stream",
     "text": [
      "Hello\n",
      "Hello\n",
      "Hello\n",
      "Hello\n",
      "Hello\n"
     ]
    }
   ],
   "source": [
    "for i in range(0,5):\n",
    "    print('Hello')"
   ]
  },
  {
   "cell_type": "code",
   "execution_count": 3,
   "id": "a61bd432",
   "metadata": {},
   "outputs": [
    {
     "name": "stdout",
     "output_type": "stream",
     "text": [
      "1\n",
      "1\n",
      "1\n",
      "1\n",
      "1\n"
     ]
    }
   ],
   "source": [
    "x = 1\n",
    "for i in range(0,5):\n",
    "    print(x)"
   ]
  },
  {
   "cell_type": "code",
   "execution_count": 24,
   "id": "79722f57",
   "metadata": {},
   "outputs": [
    {
     "name": "stdout",
     "output_type": "stream",
     "text": [
      "1\n",
      "2\n",
      "3\n",
      "4\n",
      "5\n"
     ]
    }
   ],
   "source": [
    "x = 1\n",
    "for i in range(0,5):\n",
    "    print(x + i)"
   ]
  },
  {
   "cell_type": "markdown",
   "id": "f3ba8bd8",
   "metadata": {},
   "source": [
    "# Calculate the factorial of a number"
   ]
  },
  {
   "cell_type": "code",
   "execution_count": 25,
   "id": "cfbcc24d",
   "metadata": {},
   "outputs": [
    {
     "name": "stdout",
     "output_type": "stream",
     "text": [
      "1\n",
      "2\n",
      "6\n",
      "24\n",
      "120\n"
     ]
    }
   ],
   "source": [
    "#5!=1*2*3*4*5\n",
    "x = 1\n",
    "for i in range (1,6):\n",
    "    x = x*i\n",
    "    print(x)"
   ]
  },
  {
   "cell_type": "code",
   "execution_count": 6,
   "id": "9a1ff754",
   "metadata": {},
   "outputs": [
    {
     "name": "stdout",
     "output_type": "stream",
     "text": [
      "120\n"
     ]
    }
   ],
   "source": [
    "x = 1\n",
    "for i in range (1,6):\n",
    "    x = x*i\n",
    "print(x)"
   ]
  },
  {
   "cell_type": "code",
   "execution_count": 28,
   "id": "927d435e",
   "metadata": {},
   "outputs": [
    {
     "name": "stdout",
     "output_type": "stream",
     "text": [
      "0 9\n",
      "1 8\n",
      "2 7\n",
      "3 6\n",
      "4 5\n"
     ]
    }
   ],
   "source": [
    "x = 10\n",
    "for i in range (0,5):\n",
    "    x = x-1\n",
    "    print(i,x)"
   ]
  },
  {
   "cell_type": "code",
   "execution_count": 29,
   "id": "7a9af78e",
   "metadata": {
    "scrolled": true
   },
   "outputs": [
    {
     "name": "stdout",
     "output_type": "stream",
     "text": [
      "Please enter Number:5\n",
      "120\n"
     ]
    }
   ],
   "source": [
    "y = int(input('Please enter Number:') )\n",
    "x = 1\n",
    "for i in range (1,y+1):\n",
    "    x = x*i\n",
    "print(x)"
   ]
  },
  {
   "cell_type": "code",
   "execution_count": 9,
   "id": "963a696e",
   "metadata": {},
   "outputs": [],
   "source": [
    "l1 = ['black', 'white', 'blue', 'red']"
   ]
  },
  {
   "cell_type": "code",
   "execution_count": 14,
   "id": "29e6ff33",
   "metadata": {},
   "outputs": [
    {
     "name": "stdout",
     "output_type": "stream",
     "text": [
      "black\n",
      "white\n",
      "blue\n",
      "red\n"
     ]
    }
   ],
   "source": [
    "for i in l1:\n",
    "    print(i)"
   ]
  },
  {
   "cell_type": "code",
   "execution_count": 15,
   "id": "b1dd7d33",
   "metadata": {},
   "outputs": [
    {
     "name": "stdout",
     "output_type": "stream",
     "text": [
      "black\n",
      "white\n",
      "blue\n",
      "red\n"
     ]
    }
   ],
   "source": [
    "for i in range(0,len(l1)):\n",
    "    print(l1[i])"
   ]
  },
  {
   "cell_type": "code",
   "execution_count": 1,
   "id": "a64d1504",
   "metadata": {},
   "outputs": [
    {
     "name": "stdout",
     "output_type": "stream",
     "text": [
      "0\n",
      "1\n",
      "2\n",
      "3\n",
      "4\n"
     ]
    }
   ],
   "source": [
    "i = 0\n",
    "while (i < 5):\n",
    "    print(i)\n",
    "    i = i+1"
   ]
  },
  {
   "cell_type": "code",
   "execution_count": 17,
   "id": "4df7bd52",
   "metadata": {},
   "outputs": [
    {
     "name": "stdout",
     "output_type": "stream",
     "text": [
      "0\n",
      "2\n",
      "4\n"
     ]
    }
   ],
   "source": [
    "i = 0\n",
    "while (i < 5):\n",
    "    print(i)\n",
    "    i = i+2"
   ]
  },
  {
   "cell_type": "code",
   "execution_count": 27,
   "id": "d2101c33",
   "metadata": {},
   "outputs": [
    {
     "name": "stdout",
     "output_type": "stream",
     "text": [
      "0 0\n",
      "1 2\n",
      "2 4\n",
      "3 6\n"
     ]
    }
   ],
   "source": [
    "i = 0\n",
    "j = 0\n",
    "while (i + j < 10):\n",
    "    print(i,j)\n",
    "    i = i+1\n",
    "    j = j+2"
   ]
  },
  {
   "cell_type": "code",
   "execution_count": 21,
   "id": "6d0e19de",
   "metadata": {},
   "outputs": [
    {
     "data": {
      "text/plain": [
       "14"
      ]
     },
     "execution_count": 21,
     "metadata": {},
     "output_type": "execute_result"
    }
   ],
   "source": [
    "def f(x):\n",
    "    cal = x**2 + 2*x - 1\n",
    "    return cal\n",
    "f(3)"
   ]
  },
  {
   "cell_type": "markdown",
   "id": "797f706d",
   "metadata": {},
   "source": [
    "# Break"
   ]
  },
  {
   "cell_type": "code",
   "execution_count": 11,
   "id": "ba059fa9",
   "metadata": {},
   "outputs": [
    {
     "name": "stdout",
     "output_type": "stream",
     "text": [
      "1\n",
      "2\n",
      "i is 3\n"
     ]
    }
   ],
   "source": [
    "for i in range(1,5):\n",
    "    if(i==3):\n",
    "        print('i is 3')\n",
    "        break\n",
    "    print(i)"
   ]
  },
  {
   "cell_type": "code",
   "execution_count": 12,
   "id": "da794533",
   "metadata": {},
   "outputs": [
    {
     "name": "stdout",
     "output_type": "stream",
     "text": [
      "10\n",
      "20\n",
      "104\n",
      "good\n"
     ]
    }
   ],
   "source": [
    "l1 = [10,20,104,40,50,60]\n",
    "\n",
    "for i in l1:\n",
    "    if i == 40:\n",
    "        print('good')\n",
    "        break\n",
    "    print(i)"
   ]
  },
  {
   "cell_type": "code",
   "execution_count": 1,
   "id": "2839092b",
   "metadata": {},
   "outputs": [
    {
     "name": "stdout",
     "output_type": "stream",
     "text": [
      "0\n",
      "1\n",
      "2\n",
      "3\n"
     ]
    }
   ],
   "source": [
    "i = 0\n",
    "while (i<5):\n",
    "    print(i)\n",
    "    if (i == 3):\n",
    "        break\n",
    "    i = i + 1"
   ]
  },
  {
   "cell_type": "markdown",
   "id": "15e4a651",
   "metadata": {},
   "source": [
    " # Continue "
   ]
  },
  {
   "cell_type": "code",
   "execution_count": 4,
   "id": "a2c04ccf",
   "metadata": {},
   "outputs": [
    {
     "name": "stdout",
     "output_type": "stream",
     "text": [
      "1\n",
      "2\n",
      "we are skipping 3\n",
      "3\n",
      "4\n"
     ]
    }
   ],
   "source": [
    "for i in range(1,5):\n",
    "    if(i==3):\n",
    "        print('we are skipping 3')\n",
    "    print(i)"
   ]
  },
  {
   "cell_type": "code",
   "execution_count": 5,
   "id": "4657812d",
   "metadata": {},
   "outputs": [
    {
     "name": "stdout",
     "output_type": "stream",
     "text": [
      "1\n",
      "2\n",
      "we are skipping 3\n",
      "4\n"
     ]
    }
   ],
   "source": [
    "for i in range(1,5):\n",
    "    if(i==3):\n",
    "        print('we are skipping 3')\n",
    "        continue\n",
    "    print(i)"
   ]
  },
  {
   "cell_type": "code",
   "execution_count": 11,
   "id": "6f188023",
   "metadata": {},
   "outputs": [
    {
     "name": "stdout",
     "output_type": "stream",
     "text": [
      "10\n",
      "skipping 30\n",
      "breaking the loop\n"
     ]
    }
   ],
   "source": [
    "l1 =[10,30,20,30,30,20,50]\n",
    "\n",
    "for i in l1:\n",
    "    if i ==30:\n",
    "        print ('skipping 30')\n",
    "        continue\n",
    "    if i == 20:\n",
    "        print('breaking the loop')\n",
    "        break\n",
    "    print(i)\n"
   ]
  },
  {
   "cell_type": "markdown",
   "id": "a3a59991",
   "metadata": {},
   "source": [
    "## FUNCTION"
   ]
  },
  {
   "cell_type": "code",
   "execution_count": 16,
   "id": "1f44c67e",
   "metadata": {},
   "outputs": [],
   "source": [
    "def f(x):\n",
    "    y = x**3\n",
    "    return(y)"
   ]
  },
  {
   "cell_type": "code",
   "execution_count": 17,
   "id": "f7d4a272",
   "metadata": {},
   "outputs": [
    {
     "data": {
      "text/plain": [
       "8"
      ]
     },
     "execution_count": 17,
     "metadata": {},
     "output_type": "execute_result"
    }
   ],
   "source": [
    "f(2)"
   ]
  },
  {
   "cell_type": "code",
   "execution_count": 18,
   "id": "73dcaa8d",
   "metadata": {},
   "outputs": [],
   "source": [
    "def addition(x,y,z):\n",
    "    add = x + y + z\n",
    "    print(add)"
   ]
  },
  {
   "cell_type": "code",
   "execution_count": 19,
   "id": "3a1aa09e",
   "metadata": {},
   "outputs": [
    {
     "name": "stdout",
     "output_type": "stream",
     "text": [
      "60\n"
     ]
    }
   ],
   "source": [
    "addition(10,20,30)"
   ]
  },
  {
   "cell_type": "code",
   "execution_count": 25,
   "id": "095de638",
   "metadata": {},
   "outputs": [],
   "source": [
    "def addMul(x,y,z):\n",
    "    add = x + y + z\n",
    "    Mul = x * y * z\n",
    "    print(add)\n",
    "    print(Mul)"
   ]
  },
  {
   "cell_type": "code",
   "execution_count": 26,
   "id": "03321a30",
   "metadata": {},
   "outputs": [
    {
     "name": "stdout",
     "output_type": "stream",
     "text": [
      "60\n",
      "6000\n"
     ]
    }
   ],
   "source": [
    "addMul(10,20,30)"
   ]
  },
  {
   "cell_type": "code",
   "execution_count": 27,
   "id": "1cd712d9",
   "metadata": {},
   "outputs": [
    {
     "data": {
      "text/plain": [
       "function"
      ]
     },
     "execution_count": 27,
     "metadata": {},
     "output_type": "execute_result"
    }
   ],
   "source": [
    "type(addMul)"
   ]
  },
  {
   "cell_type": "code",
   "execution_count": 28,
   "id": "57ec2f5f",
   "metadata": {},
   "outputs": [
    {
     "name": "stdout",
     "output_type": "stream",
     "text": [
      "60\n",
      "6000\n"
     ]
    },
    {
     "data": {
      "text/plain": [
       "NoneType"
      ]
     },
     "execution_count": 28,
     "metadata": {},
     "output_type": "execute_result"
    }
   ],
   "source": [
    "type(addMul(10,20,30))"
   ]
  },
  {
   "cell_type": "code",
   "execution_count": 35,
   "id": "d22e89eb",
   "metadata": {},
   "outputs": [],
   "source": [
    "def factorial(x):\n",
    "    fact = 1\n",
    "    for i in range(1,x+1):\n",
    "        fact = fact*i\n",
    "        \n",
    "    return(fact)"
   ]
  },
  {
   "cell_type": "code",
   "execution_count": 36,
   "id": "2bde412a",
   "metadata": {},
   "outputs": [
    {
     "data": {
      "text/plain": [
       "6"
      ]
     },
     "execution_count": 36,
     "metadata": {},
     "output_type": "execute_result"
    }
   ],
   "source": [
    "factorial(3)"
   ]
  },
  {
   "cell_type": "code",
   "execution_count": 1,
   "id": "b442b635",
   "metadata": {},
   "outputs": [],
   "source": [
    "def factorial(x):\n",
    "    if x == 1:\n",
    "        return 1\n",
    "    else:\n",
    "        return x*factorial(x-1)"
   ]
  },
  {
   "cell_type": "code",
   "execution_count": 2,
   "id": "e8f284a2",
   "metadata": {},
   "outputs": [
    {
     "data": {
      "text/plain": [
       "120"
      ]
     },
     "execution_count": 2,
     "metadata": {},
     "output_type": "execute_result"
    }
   ],
   "source": [
    "factorial(5)"
   ]
  },
  {
   "cell_type": "code",
   "execution_count": 8,
   "id": "9eddb2bd",
   "metadata": {},
   "outputs": [
    {
     "data": {
      "text/plain": [
       "21"
      ]
     },
     "execution_count": 8,
     "metadata": {},
     "output_type": "execute_result"
    }
   ],
   "source": [
    "def fibonacci(x):\n",
    "    if (x == 1):\n",
    "        return 0\n",
    "    elif (x == 2):\n",
    "         return 1\n",
    "    else:\n",
    "        return (fibonacci(x-1)+fibonacci(x-2))\n",
    "        \n",
    "        \n",
    "fibonacci(9)"
   ]
  },
  {
   "cell_type": "code",
   "execution_count": 21,
   "id": "6b547c7a",
   "metadata": {},
   "outputs": [
    {
     "name": "stdout",
     "output_type": "stream",
     "text": [
      "Enter No. for fibonacci series7\n",
      " 0 1 1 2 3 5 8\n"
     ]
    }
   ],
   "source": [
    "x = int(input('Enter No. for fibonacci series'))\n",
    "l1 = []\n",
    "for i in range (1, x+1):\n",
    "    l1.append(fibonacci(i))\n",
    "str1=''\n",
    "for i in l1:\n",
    "    str1 = str1 + \" \" +str(i)\n",
    "print(str1)"
   ]
  },
  {
   "cell_type": "markdown",
   "id": "a86876ea",
   "metadata": {},
   "source": [
    "# Sets"
   ]
  },
  {
   "cell_type": "code",
   "execution_count": 26,
   "id": "2fefcc75",
   "metadata": {},
   "outputs": [],
   "source": [
    "A = {2,3,1,4,4,2,0, False, True}"
   ]
  },
  {
   "cell_type": "code",
   "execution_count": 27,
   "id": "dbd5f1b1",
   "metadata": {},
   "outputs": [
    {
     "data": {
      "text/plain": [
       "{0, 1, 2, 3, 4}"
      ]
     },
     "execution_count": 27,
     "metadata": {},
     "output_type": "execute_result"
    }
   ],
   "source": [
    "A"
   ]
  },
  {
   "cell_type": "code",
   "execution_count": 28,
   "id": "87ac4f27",
   "metadata": {},
   "outputs": [
    {
     "data": {
      "text/plain": [
       "{0, 1, 2, 3, 4}"
      ]
     },
     "execution_count": 28,
     "metadata": {},
     "output_type": "execute_result"
    }
   ],
   "source": [
    "set(A)"
   ]
  },
  {
   "cell_type": "code",
   "execution_count": 30,
   "id": "321ee2a3",
   "metadata": {},
   "outputs": [],
   "source": [
    "B = tuple(A)"
   ]
  },
  {
   "cell_type": "code",
   "execution_count": 31,
   "id": "adf1468b",
   "metadata": {},
   "outputs": [
    {
     "data": {
      "text/plain": [
       "(0, 1, 2, 3, 4)"
      ]
     },
     "execution_count": 31,
     "metadata": {},
     "output_type": "execute_result"
    }
   ],
   "source": [
    "B"
   ]
  },
  {
   "cell_type": "code",
   "execution_count": 33,
   "id": "a2895f43",
   "metadata": {},
   "outputs": [
    {
     "data": {
      "text/plain": [
       "{0, 1, 2, 3, 4}"
      ]
     },
     "execution_count": 33,
     "metadata": {},
     "output_type": "execute_result"
    }
   ],
   "source": [
    "set(B)"
   ]
  },
  {
   "cell_type": "markdown",
   "id": "2127b140",
   "metadata": {},
   "source": [
    "# Nested Dictionary"
   ]
  },
  {
   "cell_type": "code",
   "execution_count": 3,
   "id": "44d2b177",
   "metadata": {},
   "outputs": [],
   "source": [
    "student = {'Gary': {'mathematics': 85,'Science':76},\n",
    "    'Martina':{'mathematics':98,'Science':99}} "
   ]
  },
  {
   "cell_type": "code",
   "execution_count": 4,
   "id": "7c621bc5",
   "metadata": {},
   "outputs": [
    {
     "data": {
      "text/plain": [
       "{'Gary': {'mathematics': 85, 'Science': 76},\n",
       " 'Martina': {'mathematics': 98, 'Science': 99}}"
      ]
     },
     "execution_count": 4,
     "metadata": {},
     "output_type": "execute_result"
    }
   ],
   "source": [
    "student"
   ]
  },
  {
   "cell_type": "code",
   "execution_count": 6,
   "id": "0e66283c",
   "metadata": {},
   "outputs": [
    {
     "data": {
      "text/plain": [
       "85"
      ]
     },
     "execution_count": 6,
     "metadata": {},
     "output_type": "execute_result"
    }
   ],
   "source": [
    "student['Gary']['mathematics']"
   ]
  },
  {
   "cell_type": "code",
   "execution_count": 13,
   "id": "9d0562d1",
   "metadata": {},
   "outputs": [
    {
     "name": "stdout",
     "output_type": "stream",
     "text": [
      "Gary {'mathematics': 85, 'Science': 76}\n",
      "Martina {'mathematics': 98, 'Science': 99}\n"
     ]
    }
   ],
   "source": [
    "for i in student:\n",
    "    print(i, student[i])"
   ]
  },
  {
   "cell_type": "code",
   "execution_count": 15,
   "id": "d56ada30",
   "metadata": {},
   "outputs": [
    {
     "name": "stdout",
     "output_type": "stream",
     "text": [
      "Gary got 85 marks in mathematics\n",
      "Martina got 98 marks in mathematics\n"
     ]
    }
   ],
   "source": [
    "for i in student:\n",
    "    print(i, 'got', student[i]['mathematics'], 'marks in mathematics')"
   ]
  },
  {
   "cell_type": "code",
   "execution_count": 16,
   "id": "4555d524",
   "metadata": {},
   "outputs": [
    {
     "data": {
      "text/plain": [
       "2"
      ]
     },
     "execution_count": 16,
     "metadata": {},
     "output_type": "execute_result"
    }
   ],
   "source": [
    "len(student)"
   ]
  },
  {
   "cell_type": "code",
   "execution_count": 17,
   "id": "5d1230a6",
   "metadata": {},
   "outputs": [
    {
     "name": "stdout",
     "output_type": "stream",
     "text": [
      "Gary 2\n",
      "Martina 2\n"
     ]
    }
   ],
   "source": [
    "for i in student:\n",
    "    print(i,len(student[i]))"
   ]
  },
  {
   "cell_type": "code",
   "execution_count": 18,
   "id": "45fa9d2d",
   "metadata": {},
   "outputs": [
    {
     "name": "stdout",
     "output_type": "stream",
     "text": [
      "{'mathematics': 85, 'Science': 76}\n",
      "{'mathematics': 98, 'Science': 99}\n"
     ]
    }
   ],
   "source": [
    "for i in student:\n",
    "    print(student[i])"
   ]
  },
  {
   "cell_type": "code",
   "execution_count": 45,
   "id": "89c02dc2",
   "metadata": {},
   "outputs": [
    {
     "name": "stdout",
     "output_type": "stream",
     "text": [
      "mathematics 98\n",
      "Science 99\n"
     ]
    }
   ],
   "source": [
    "Subjects=[]\n",
    "for i in student['Martina']:\n",
    "    Subjects.append(i)\n",
    "for i in Subjects:\n",
    "    Marks = []\n",
    "    for j in student:\n",
    "        Marks.append(student[j][i])\n",
    "    print(i,max(Marks))"
   ]
  },
  {
   "cell_type": "code",
   "execution_count": 28,
   "id": "fbea3642",
   "metadata": {},
   "outputs": [
    {
     "data": {
      "text/plain": [
       "['mathematics', 'Science']"
      ]
     },
     "execution_count": 28,
     "metadata": {},
     "output_type": "execute_result"
    }
   ],
   "source": [
    "Subjects"
   ]
  },
  {
   "cell_type": "code",
   "execution_count": 42,
   "id": "358f1157",
   "metadata": {},
   "outputs": [
    {
     "name": "stdout",
     "output_type": "stream",
     "text": [
      "mathematics 98\n",
      "Science 99\n"
     ]
    }
   ],
   "source": [
    "for i in Subjects:\n",
    "    Marks = []\n",
    "    for j in student:\n",
    "        Marks.append(student[j][i])\n",
    "    print(i,max(Marks))"
   ]
  },
  {
   "cell_type": "code",
   "execution_count": 63,
   "id": "84379a2f",
   "metadata": {},
   "outputs": [
    {
     "data": {
      "text/plain": [
       "25"
      ]
     },
     "execution_count": 63,
     "metadata": {},
     "output_type": "execute_result"
    }
   ],
   "source": [
    "def square(x):\n",
    "    sqrt=x*x\n",
    "    return(sqrt)\n",
    "    \n",
    "square(5)"
   ]
  },
  {
   "cell_type": "code",
   "execution_count": 70,
   "id": "c3d60690",
   "metadata": {},
   "outputs": [],
   "source": [
    "square = lambda x: x*x"
   ]
  },
  {
   "cell_type": "code",
   "execution_count": 71,
   "id": "ef687d9c",
   "metadata": {},
   "outputs": [
    {
     "data": {
      "text/plain": [
       "9"
      ]
     },
     "execution_count": 71,
     "metadata": {},
     "output_type": "execute_result"
    }
   ],
   "source": [
    "square(3)"
   ]
  },
  {
   "cell_type": "code",
   "execution_count": 79,
   "id": "ba32f166",
   "metadata": {},
   "outputs": [],
   "source": [
    "addition = lambda x,y: x+y"
   ]
  },
  {
   "cell_type": "code",
   "execution_count": 80,
   "id": "65e649e7",
   "metadata": {},
   "outputs": [
    {
     "data": {
      "text/plain": [
       "8"
      ]
     },
     "execution_count": 80,
     "metadata": {},
     "output_type": "execute_result"
    }
   ],
   "source": [
    "addition(2,6)"
   ]
  },
  {
   "cell_type": "code",
   "execution_count": 87,
   "id": "1ae49ebe",
   "metadata": {},
   "outputs": [
    {
     "name": "stdout",
     "output_type": "stream",
     "text": [
      "Greater than 15\n"
     ]
    }
   ],
   "source": [
    "def Greater(x):\n",
    "    if x > 15:\n",
    "        print('Greater than 15')\n",
    "    else:\n",
    "        print('Lesser')\n",
    "        \n",
    "Greater(70)"
   ]
  },
  {
   "cell_type": "code",
   "execution_count": 89,
   "id": "20a96845",
   "metadata": {},
   "outputs": [
    {
     "data": {
      "text/plain": [
       "'Greater than 15'"
      ]
     },
     "execution_count": 89,
     "metadata": {},
     "output_type": "execute_result"
    }
   ],
   "source": [
    "Larger = lambda x:'Greater than 15' if x > 15 else 'Lesser'\n",
    "\n",
    "Larger(20)"
   ]
  },
  {
   "cell_type": "code",
   "execution_count": 93,
   "id": "c22ca2ec",
   "metadata": {},
   "outputs": [
    {
     "data": {
      "text/plain": [
       "True"
      ]
     },
     "execution_count": 93,
     "metadata": {},
     "output_type": "execute_result"
    }
   ],
   "source": [
    "wht= lambda x,y: True if x+y<10 else False\n",
    "\n",
    "wht(2,7)"
   ]
  },
  {
   "cell_type": "code",
   "execution_count": 94,
   "id": "d6266cdc",
   "metadata": {},
   "outputs": [],
   "source": [
    "def redt(x,y):\n",
    "    if x+y < 10:\n",
    "        return(True)\n",
    "    else:\n",
    "        return(False)"
   ]
  },
  {
   "cell_type": "code",
   "execution_count": 95,
   "id": "aa9a407f",
   "metadata": {},
   "outputs": [
    {
     "data": {
      "text/plain": [
       "True"
      ]
     },
     "execution_count": 95,
     "metadata": {},
     "output_type": "execute_result"
    }
   ],
   "source": [
    "redt(2,7)"
   ]
  },
  {
   "cell_type": "markdown",
   "id": "f53044a8",
   "metadata": {},
   "source": [
    "# Exception Handling"
   ]
  },
  {
   "cell_type": "code",
   "execution_count": 7,
   "id": "636e76f1",
   "metadata": {},
   "outputs": [
    {
     "name": "stdout",
     "output_type": "stream",
     "text": [
      "Enter Age:26\n",
      "51\n"
     ]
    }
   ],
   "source": [
    "def age():\n",
    "    try:\n",
    "        x=input(\"Enter Age:\")\n",
    "        y=int(x) + 25\n",
    "        print(y)\n",
    "    except:\n",
    "        print(\"Enter Number\")\n",
    "        age()\n",
    "\n",
    "age()"
   ]
  },
  {
   "cell_type": "code",
   "execution_count": 8,
   "id": "aa291b95",
   "metadata": {},
   "outputs": [
    {
     "name": "stdout",
     "output_type": "stream",
     "text": [
      "Define a\n"
     ]
    }
   ],
   "source": [
    "try:\n",
    "    print(a)\n",
    "except:\n",
    "    print('Define a')"
   ]
  },
  {
   "cell_type": "code",
   "execution_count": 11,
   "id": "2183549e",
   "metadata": {},
   "outputs": [
    {
     "name": "stdout",
     "output_type": "stream",
     "text": [
      "come\n"
     ]
    }
   ],
   "source": [
    "try:\n",
    "    print('come')\n",
    "except:\n",
    "    print('I Love you')"
   ]
  },
  {
   "cell_type": "markdown",
   "id": "2922ef08",
   "metadata": {},
   "source": [
    "# Type Error"
   ]
  },
  {
   "cell_type": "code",
   "execution_count": 23,
   "id": "badaa891",
   "metadata": {},
   "outputs": [
    {
     "name": "stdout",
     "output_type": "stream",
     "text": [
      "Both should be numbers\n",
      "Finished\n"
     ]
    }
   ],
   "source": [
    "x=2\n",
    "y='Hi'\n",
    "try:\n",
    "    print(x + y)\n",
    "except TypeError:\n",
    "    print('Both should be numbers')\n",
    "finally:\n",
    "    print('Finished')"
   ]
  },
  {
   "cell_type": "markdown",
   "id": "69e7b26b",
   "metadata": {},
   "source": [
    "# Value Error"
   ]
  },
  {
   "cell_type": "code",
   "execution_count": 25,
   "id": "93bf7cd6",
   "metadata": {},
   "outputs": [
    {
     "name": "stdout",
     "output_type": "stream",
     "text": [
      "Enter No.\n",
      "Finished\n"
     ]
    }
   ],
   "source": [
    "x='Hello'\n",
    "try:\n",
    "    print(int(x))\n",
    "except ValueError:\n",
    "    print('Enter No.')\n",
    "finally:\n",
    "    print('Finished')"
   ]
  },
  {
   "cell_type": "markdown",
   "id": "8cb45937",
   "metadata": {},
   "source": [
    "# ZeroDivisionError"
   ]
  },
  {
   "cell_type": "code",
   "execution_count": 29,
   "id": "c687f260",
   "metadata": {},
   "outputs": [
    {
     "name": "stdout",
     "output_type": "stream",
     "text": [
      "Cannot be divided by zero\n",
      "Finished\n"
     ]
    }
   ],
   "source": [
    "x = 2\n",
    "y = 0\n",
    "try:\n",
    "    print(x/y)\n",
    "except ZeroDivisionError:\n",
    "    print('Cannot be divided by zero')\n",
    "finally:\n",
    "    print('Finished')"
   ]
  },
  {
   "cell_type": "markdown",
   "id": "6e741131",
   "metadata": {},
   "source": [
    "# Raise Exception"
   ]
  },
  {
   "cell_type": "code",
   "execution_count": 40,
   "id": "103b239c",
   "metadata": {},
   "outputs": [
    {
     "data": {
      "text/plain": [
       "1"
      ]
     },
     "execution_count": 40,
     "metadata": {},
     "output_type": "execute_result"
    }
   ],
   "source": [
    "l1=[1,2,3,4]\n",
    "x=4\n",
    "if x not in l1:\n",
    "    raise Exception('x not in List')\n",
    "l1.index(x)\n",
    "\n",
    "if y not in range(0,len(l1)-1):\n",
    "    raise Exception('index is not i range')\n",
    "    \n",
    "l1[y] "
   ]
  },
  {
   "cell_type": "code",
   "execution_count": 36,
   "id": "8de0fcdb",
   "metadata": {},
   "outputs": [
    {
     "data": {
      "text/plain": [
       "3"
      ]
     },
     "execution_count": 36,
     "metadata": {},
     "output_type": "execute_result"
    }
   ],
   "source": [
    "l1.index(4)"
   ]
  },
  {
   "cell_type": "code",
   "execution_count": 41,
   "id": "c7ffacc9",
   "metadata": {},
   "outputs": [],
   "source": [
    "# NUMPY"
   ]
  },
  {
   "cell_type": "code",
   "execution_count": 42,
   "id": "3dc3177e",
   "metadata": {},
   "outputs": [],
   "source": [
    "import numpy as np"
   ]
  },
  {
   "cell_type": "code",
   "execution_count": null,
   "id": "ed35433c",
   "metadata": {},
   "outputs": [],
   "source": []
  }
 ],
 "metadata": {
  "kernelspec": {
   "display_name": "Python 3 (ipykernel)",
   "language": "python",
   "name": "python3"
  },
  "language_info": {
   "codemirror_mode": {
    "name": "ipython",
    "version": 3
   },
   "file_extension": ".py",
   "mimetype": "text/x-python",
   "name": "python",
   "nbconvert_exporter": "python",
   "pygments_lexer": "ipython3",
   "version": "3.9.7"
  }
 },
 "nbformat": 4,
 "nbformat_minor": 5
}
