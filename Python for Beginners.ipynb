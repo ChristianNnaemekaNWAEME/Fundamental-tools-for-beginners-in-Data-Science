{
 "cells": [
  {
   "cell_type": "code",
   "execution_count": 1,
   "id": "39de1658",
   "metadata": {},
   "outputs": [
    {
     "name": "stdout",
     "output_type": "stream",
     "text": [
      "30\n",
      "19.95\n",
      "mosh\n",
      "False\n",
      "Hello World!\n"
     ]
    }
   ],
   "source": [
    "age = 20\n",
    "age = 30\n",
    "price = 19.95\n",
    "first_name = 'mosh'\n",
    "is_online = False\n",
    "print(age)\n",
    "print(price)\n",
    "print(first_name)\n",
    "print(is_online)\n",
    "print(\"Hello World!\")"
   ]
  },
  {
   "cell_type": "markdown",
   "id": "156577e9",
   "metadata": {},
   "source": [
    "**EXERCISE**\n",
    "1. We check in a patient named John Smith\n",
    "2. He is 20 years old\n",
    "3. He is a new patient\n",
    "Declare a variable to store the values"
   ]
  },
  {
   "cell_type": "code",
   "execution_count": 2,
   "id": "daf6d2b6",
   "metadata": {},
   "outputs": [
    {
     "name": "stdout",
     "output_type": "stream",
     "text": [
      "We check in a patient named John Smith\n",
      "He is 20 years old\n",
      "He is a new patient\n"
     ]
    }
   ],
   "source": [
    "Patient = \"We check in a patient named John Smith\"\n",
    "print(Patient)\n",
    "age = \"He is 20 years old\"\n",
    "print(age)\n",
    "New_patient = \"He is a new patient\"\n",
    "print(New_patient)"
   ]
  },
  {
   "cell_type": "markdown",
   "id": "ee3ce3f0",
   "metadata": {},
   "source": [
    "# **String Concatenation** "
   ]
  },
  {
   "cell_type": "code",
   "execution_count": 3,
   "id": "00332833",
   "metadata": {},
   "outputs": [
    {
     "name": "stdout",
     "output_type": "stream",
     "text": [
      "What is your name? Christian\n",
      "Hello Christian\n"
     ]
    }
   ],
   "source": [
    "name = input(\"What is your name? \")\n",
    "print(\"Hello \" + name)"
   ]
  },
  {
   "cell_type": "code",
   "execution_count": 25,
   "id": "ffb29e24",
   "metadata": {},
   "outputs": [
    {
     "name": "stdout",
     "output_type": "stream",
     "text": [
      "Enter your birth year: 1996\n",
      "26\n"
     ]
    }
   ],
   "source": [
    "birth_year = input(\"Enter your birth year: \")\n",
    "age = 2022 - int(birth_year)\n",
    "print(age)"
   ]
  },
  {
   "cell_type": "markdown",
   "id": "9faf5b8c",
   "metadata": {},
   "source": [
    "**These are built in functions for conventing the type of out variables:** int(), float, bool() and str()"
   ]
  },
  {
   "cell_type": "code",
   "execution_count": 26,
   "id": "7407cbcc",
   "metadata": {},
   "outputs": [
    {
     "name": "stdout",
     "output_type": "stream",
     "text": [
      "30.1\n"
     ]
    }
   ],
   "source": [
    "First = 10.1\n",
    "Second = 20\n",
    "sum = float(First) + int(Second)\n",
    "print(sum)"
   ]
  },
  {
   "cell_type": "code",
   "execution_count": 29,
   "id": "722f3e6d",
   "metadata": {},
   "outputs": [
    {
     "name": "stdout",
     "output_type": "stream",
     "text": [
      "First: 10.1\n",
      "Second: 20\n",
      "30.1\n"
     ]
    }
   ],
   "source": [
    "First = input(\"First: \")\n",
    "Second = input(\"Second: \")\n",
    "sum = float(First) + int(Second)\n",
    "print(sum)"
   ]
  },
  {
   "cell_type": "code",
   "execution_count": 30,
   "id": "ba72c69f",
   "metadata": {},
   "outputs": [
    {
     "name": "stdout",
     "output_type": "stream",
     "text": [
      "First: 10.1\n",
      "Second: 20\n",
      "Sum: 30.1\n"
     ]
    }
   ],
   "source": [
    "First = input(\"First: \")\n",
    "Second = input(\"Second: \")\n",
    "sum = float(First) + int(Second)\n",
    "print(\"Sum: \" + str(sum))"
   ]
  },
  {
   "cell_type": "code",
   "execution_count": 32,
   "id": "390556f6",
   "metadata": {},
   "outputs": [
    {
     "name": "stdout",
     "output_type": "stream",
     "text": [
      "First: 10.1\n",
      "Second: 20\n",
      "Sum: 30.1\n"
     ]
    }
   ],
   "source": [
    "First = float(input(\"First: \"))\n",
    "Second = float(input(\"Second: \"))\n",
    "sum = First + Second\n",
    "print(\"Sum: \" + str(sum))"
   ]
  },
  {
   "cell_type": "code",
   "execution_count": 45,
   "id": "29c0361f",
   "metadata": {},
   "outputs": [
    {
     "name": "stdout",
     "output_type": "stream",
     "text": [
      "True\n",
      "PYTHON FOR BEGINNERS\n",
      "python for beginners\n",
      "7\n",
      "Python 4 Beginners\n"
     ]
    }
   ],
   "source": [
    "course = 'Python for Beginners'\n",
    "a = course.upper()\n",
    "b = course.lower()\n",
    "c = course.find(\"for\")\n",
    "d = course.replace('for', '4')\n",
    "print('Python' in course)\n",
    "print(a)\n",
    "print(b)\n",
    "print(c)\n",
    "print(d)"
   ]
  },
  {
   "cell_type": "markdown",
   "id": "c5b04ce9",
   "metadata": {},
   "source": [
    "# Arithmetic Operators"
   ]
  },
  {
   "cell_type": "code",
   "execution_count": 53,
   "id": "36bfa312",
   "metadata": {},
   "outputs": [
    {
     "name": "stdout",
     "output_type": "stream",
     "text": [
      "13\n",
      "63\n",
      "40\n",
      "10.0\n",
      "10\n",
      "1\n",
      "100\n"
     ]
    }
   ],
   "source": [
    "print(10 + 3) # Addition\n",
    "print(69 - 6) # Substraction\n",
    "print(10 * 4) # Multiplication\n",
    "print(50/5) # Division for float functions\n",
    "print(50//5) # Division for integer functions\n",
    "print(10%3) # Modulus operation (it returns the remainder of divisions)\n",
    "print(10**2) # The exponent operator"
   ]
  },
  {
   "cell_type": "code",
   "execution_count": 57,
   "id": "79889eef",
   "metadata": {},
   "outputs": [
    {
     "name": "stdout",
     "output_type": "stream",
     "text": [
      "16\n"
     ]
    }
   ],
   "source": [
    "x = 10\n",
    "x = x + 3\n",
    "x += 3 # Augmented assignment operator \n",
    "print(x)"
   ]
  },
  {
   "cell_type": "markdown",
   "id": "8b79c2d9",
   "metadata": {},
   "source": [
    "# Comparison Operators\n",
    "**>, >=, <, <=, ==, !=** "
   ]
  },
  {
   "cell_type": "markdown",
   "id": "342278ae",
   "metadata": {},
   "source": [
    "# Logical Operators\n",
    "**or, and, not**"
   ]
  },
  {
   "cell_type": "code",
   "execution_count": 60,
   "id": "1df19353",
   "metadata": {},
   "outputs": [
    {
     "name": "stdout",
     "output_type": "stream",
     "text": [
      "True\n"
     ]
    }
   ],
   "source": [
    "price1 = 5\n",
    "print(price1 > 10 or price1 < 30)"
   ]
  },
  {
   "cell_type": "code",
   "execution_count": 65,
   "id": "77b2aa7c",
   "metadata": {},
   "outputs": [
    {
     "name": "stdout",
     "output_type": "stream",
     "text": [
      "True\n"
     ]
    }
   ],
   "source": [
    "price2 = 4\n",
    "print(not price2 > 10)"
   ]
  },
  {
   "cell_type": "markdown",
   "id": "d1fc4229",
   "metadata": {},
   "source": [
    "# If Statement"
   ]
  },
  {
   "cell_type": "markdown",
   "id": "be136f68",
   "metadata": {},
   "source": [
    "**Exercise**"
   ]
  },
  {
   "cell_type": "code",
   "execution_count": 85,
   "id": "96026b19",
   "metadata": {},
   "outputs": [
    {
     "name": "stdout",
     "output_type": "stream",
     "text": [
      "It's a nice day\n",
      "Done\n"
     ]
    }
   ],
   "source": [
    "temperature = 30\n",
    "if temperature > 30:\n",
    "    print('It\\'s a hot day')\n",
    "    print(\"Drink plenty of water\")\n",
    "elif temperature > 20: # (20, 30]\n",
    "    print(\"It's a nice day\")\n",
    "elif temperature > 10: # (10, 20]\n",
    "    print(\"It's a bit cold\") \n",
    "else:\n",
    "    print(\"It's cold\")\n",
    "print(\"Done\")"
   ]
  },
  {
   "cell_type": "code",
   "execution_count": 99,
   "id": "4d086a48",
   "metadata": {},
   "outputs": [
    {
     "name": "stdout",
     "output_type": "stream",
     "text": [
      "Weight1: 76.5\n",
      "(K)g or (L)bs: k\n",
      "Weight1 in Lbs: 170.0\n"
     ]
    }
   ],
   "source": [
    "weight = float(input(\"Weight1: \"))\n",
    "unit = input( \"(K)g or (L)bs: \")\n",
    "if unit.upper() == \"K\":\n",
    "    converted = weight / 0.45\n",
    "    print(\"Weight1 in Lbs: \" + str(converted))\n",
    "else:\n",
    "    converted = weight * 0.45\n",
    "    print(\"Weight1 in Kgs: \" + str(converted))"
   ]
  },
  {
   "cell_type": "code",
   "execution_count": 100,
   "id": "db9a5176",
   "metadata": {},
   "outputs": [
    {
     "name": "stdout",
     "output_type": "stream",
     "text": [
      "Weight1: 170\n",
      "(K)g or (L)bs: l\n",
      "Weight1 in Kgs: 76.5\n"
     ]
    }
   ],
   "source": [
    "weight = int(input(\"Weight1: \"))\n",
    "unit = input( \"(K)g or (L)bs: \")\n",
    "if unit.upper() == \"K\":\n",
    "    converted = weight / 0.45\n",
    "    print(\"Weight1 in Lbs: \" + str(converted))\n",
    "else:\n",
    "    converted = weight * 0.45\n",
    "    print(\"Weight1 in Kgs: \" + str(converted))"
   ]
  },
  {
   "cell_type": "markdown",
   "id": "aede0cd3",
   "metadata": {},
   "source": [
    "# While-loop in Python"
   ]
  },
  {
   "cell_type": "code",
   "execution_count": 106,
   "id": "676a548c",
   "metadata": {},
   "outputs": [
    {
     "name": "stdout",
     "output_type": "stream",
     "text": [
      "*\n",
      "**\n",
      "***\n",
      "****\n",
      "*****\n",
      "******\n",
      "*******\n",
      "********\n",
      "*********\n",
      "**********\n"
     ]
    }
   ],
   "source": [
    "i = 1\n",
    "while i <= 10:\n",
    "    print(i * \"*\")\n",
    "    i = i + 1"
   ]
  },
  {
   "cell_type": "markdown",
   "id": "f1204b1d",
   "metadata": {},
   "source": [
    "# List"
   ]
  },
  {
   "cell_type": "code",
   "execution_count": 112,
   "id": "9a3e7f67",
   "metadata": {},
   "outputs": [
    {
     "name": "stdout",
     "output_type": "stream",
     "text": [
      "['Jon', 'Bob', 'Mosh']\n",
      "['Jon', 'Bob', 'Mosh', 'Sam', 'Mary']\n"
     ]
    }
   ],
   "source": [
    "names = [\"John\", \"Bob\", \"Mosh\", \"Sam\", \"Mary\"]\n",
    "names[0]=\"Jon\"\n",
    "print(names[0:3])\n",
    "print(names)"
   ]
  },
  {
   "cell_type": "markdown",
   "id": "716d194c",
   "metadata": {},
   "source": [
    "# List Methods"
   ]
  },
  {
   "cell_type": "code",
   "execution_count": 121,
   "id": "964bcbcf",
   "metadata": {},
   "outputs": [
    {
     "name": "stdout",
     "output_type": "stream",
     "text": [
      "[]\n"
     ]
    }
   ],
   "source": [
    "numbers = [1,2,3,4,5]\n",
    "numbers.append(6)\n",
    "numbers.insert(-1, 7) # firstly, indicate the position you want then insert the value\n",
    "numbers.remove(3) # removing an item in the list\n",
    "numbers.clear()  # to delete everything in the list\n",
    "print(numbers)"
   ]
  },
  {
   "cell_type": "code",
   "execution_count": 122,
   "id": "e28ab1ff",
   "metadata": {},
   "outputs": [
    {
     "name": "stdout",
     "output_type": "stream",
     "text": [
      "True\n"
     ]
    }
   ],
   "source": [
    "numbers = [1,2,3,4,5]\n",
    "print(1 in numbers)"
   ]
  },
  {
   "cell_type": "code",
   "execution_count": 124,
   "id": "a8933827",
   "metadata": {},
   "outputs": [
    {
     "name": "stdout",
     "output_type": "stream",
     "text": [
      "5\n"
     ]
    }
   ],
   "source": [
    "numbers = [1,2,3,4,5]\n",
    "print(len(numbers))"
   ]
  },
  {
   "cell_type": "markdown",
   "id": "3ba35344",
   "metadata": {},
   "source": [
    "# For Loops"
   ]
  },
  {
   "cell_type": "code",
   "execution_count": 125,
   "id": "0225fa0f",
   "metadata": {},
   "outputs": [
    {
     "name": "stdout",
     "output_type": "stream",
     "text": [
      "1\n",
      "2\n",
      "3\n",
      "4\n",
      "5\n"
     ]
    }
   ],
   "source": [
    "numbers=[1,2,3,4,5]\n",
    "for item in numbers:\n",
    "        print(item)"
   ]
  },
  {
   "cell_type": "code",
   "execution_count": 127,
   "id": "9b017e7b",
   "metadata": {},
   "outputs": [
    {
     "name": "stdout",
     "output_type": "stream",
     "text": [
      "1\n",
      "2\n",
      "3\n",
      "4\n",
      "5\n"
     ]
    }
   ],
   "source": [
    "numbers=[1,2,3,4,5]\n",
    "i=0\n",
    "while i < len(numbers):\n",
    "    print(numbers[i])\n",
    "    i=i+1"
   ]
  },
  {
   "cell_type": "markdown",
   "id": "9b048c3b",
   "metadata": {},
   "source": [
    "# The range () Function"
   ]
  },
  {
   "cell_type": "code",
   "execution_count": 135,
   "id": "99351506",
   "metadata": {},
   "outputs": [
    {
     "name": "stdout",
     "output_type": "stream",
     "text": [
      "5\n",
      "7\n",
      "9\n"
     ]
    }
   ],
   "source": [
    "numbers = range(5, 10, 2)\n",
    "for number in numbers:\n",
    "    print(number)"
   ]
  },
  {
   "cell_type": "markdown",
   "id": "5d85a872",
   "metadata": {},
   "source": [
    "# Tuples"
   ]
  },
  {
   "cell_type": "code",
   "execution_count": 138,
   "id": "881e904a",
   "metadata": {},
   "outputs": [
    {
     "data": {
      "text/plain": [
       "3"
      ]
     },
     "execution_count": 138,
     "metadata": {},
     "output_type": "execute_result"
    }
   ],
   "source": [
    "numbers = (1, 2, 2, 2, 3) # We use ( ... ) to define a tuples while [ ... ] to define a list\n",
    "numbers.count(2)"
   ]
  },
  {
   "cell_type": "code",
   "execution_count": null,
   "id": "8f1992b4",
   "metadata": {},
   "outputs": [],
   "source": []
  }
 ],
 "metadata": {
  "kernelspec": {
   "display_name": "Python 3 (ipykernel)",
   "language": "python",
   "name": "python3"
  },
  "language_info": {
   "codemirror_mode": {
    "name": "ipython",
    "version": 3
   },
   "file_extension": ".py",
   "mimetype": "text/x-python",
   "name": "python",
   "nbconvert_exporter": "python",
   "pygments_lexer": "ipython3",
   "version": "3.9.7"
  }
 },
 "nbformat": 4,
 "nbformat_minor": 5
}
