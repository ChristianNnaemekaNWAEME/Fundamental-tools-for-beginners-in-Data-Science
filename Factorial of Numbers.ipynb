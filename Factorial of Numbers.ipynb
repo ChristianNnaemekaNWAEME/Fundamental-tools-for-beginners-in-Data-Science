{
 "cells": [
  {
   "cell_type": "markdown",
   "id": "c8845407",
   "metadata": {},
   "source": [
    "# Factorial of Numbers"
   ]
  },
  {
   "cell_type": "code",
   "execution_count": 2,
   "id": "08463ffc",
   "metadata": {},
   "outputs": [
    {
     "name": "stdout",
     "output_type": "stream",
     "text": [
      "Enter a number to find its factorial:5\n",
      "The factorial of 5 is 120\n"
     ]
    }
   ],
   "source": [
    "number = int(input('Enter a number to find its factorial:'))\n",
    "factorial = 1\n",
    "\n",
    "if number == 0:\n",
    "    print('The factorial of 0 is 1')\n",
    "else:\n",
    "    for i in range(1, number+1):\n",
    "        factorial = factorial*i\n",
    "    print('The factorial of', number, 'is', factorial)"
   ]
  },
  {
   "cell_type": "code",
   "execution_count": 3,
   "id": "78030aa4",
   "metadata": {},
   "outputs": [],
   "source": [
    "def factorial_value(num):\n",
    "    factorial = 1\n",
    "    \n",
    "    if num == 0:\n",
    "        return factorial\n",
    "    \n",
    "    else:\n",
    "        for i in range(1, num+1):\n",
    "            factorial = factorial*i\n",
    "        return factorial"
   ]
  },
  {
   "cell_type": "code",
   "execution_count": 4,
   "id": "aa658d31",
   "metadata": {},
   "outputs": [
    {
     "name": "stdout",
     "output_type": "stream",
     "text": [
      "24\n"
     ]
    }
   ],
   "source": [
    "print(factorial_value(4))"
   ]
  },
  {
   "cell_type": "code",
   "execution_count": 5,
   "id": "30a83775",
   "metadata": {},
   "outputs": [
    {
     "name": "stdout",
     "output_type": "stream",
     "text": [
      "Odd\n"
     ]
    }
   ],
   "source": [
    "x = 5\n",
    "r = x % 2\n",
    "\n",
    "if r == 0:\n",
    "    print(\"Even\")\n",
    "    if x < 5:\n",
    "        print(\"Great\")\n",
    "    else:\n",
    "        print(\"Not so great\")\n",
    "else:\n",
    "    print(\"Odd\")"
   ]
  },
  {
   "cell_type": "code",
   "execution_count": 6,
   "id": "38f8c46d",
   "metadata": {},
   "outputs": [
    {
     "name": "stdout",
     "output_type": "stream",
     "text": [
      "Nor\n"
     ]
    }
   ],
   "source": [
    "x = 2\n",
    "\n",
    "if x==1:\n",
    "    print(\"one\")\n",
    "elif x == 3:\n",
    "    print(\"Two\")\n",
    "else:\n",
    "    print('Nor')"
   ]
  },
  {
   "cell_type": "code",
   "execution_count": 7,
   "id": "cb53b97d",
   "metadata": {},
   "outputs": [
    {
     "name": "stdout",
     "output_type": "stream",
     "text": [
      "it's cold\n"
     ]
    }
   ],
   "source": [
    "temperature = 35\n",
    "if temperature < 30:\n",
    "    print(\"It's warm\")\n",
    "    print(\"Drink water\")\n",
    "elif temperature > 20:\n",
    "    print(\"it's cold\")\n",
    "else:\n",
    "    print(\"Done\")"
   ]
  },
  {
   "cell_type": "code",
   "execution_count": 8,
   "id": "47a67609",
   "metadata": {},
   "outputs": [
    {
     "name": "stdout",
     "output_type": "stream",
     "text": [
      "Eligible\n"
     ]
    }
   ],
   "source": [
    "age = 22\n",
    "if age >= 18:\n",
    "    print(\"Eligible\")\n",
    "else:\n",
    "    print(\"Not Eligible\")"
   ]
  },
  {
   "cell_type": "code",
   "execution_count": 9,
   "id": "9cb80b45",
   "metadata": {},
   "outputs": [
    {
     "name": "stdout",
     "output_type": "stream",
     "text": [
      "Eligible\n"
     ]
    }
   ],
   "source": [
    "age = 22\n",
    "if age >= 18:\n",
    "    message = \"Eligible\"\n",
    "else:\n",
    "    message = \"Not Eligible\"\n",
    "print(message)"
   ]
  },
  {
   "cell_type": "code",
   "execution_count": 10,
   "id": "1be545e8",
   "metadata": {},
   "outputs": [
    {
     "name": "stdout",
     "output_type": "stream",
     "text": [
      "Eligible\n"
     ]
    }
   ],
   "source": [
    "high_income = False\n",
    "good_credit = True\n",
    "\n",
    "if high_income or good_credit:\n",
    "    Worker = \"Eligible\"\n",
    "else:\n",
    "    Worker = \"Not Eligible\"\n",
    "print(Worker)"
   ]
  },
  {
   "cell_type": "code",
   "execution_count": 11,
   "id": "20fa504b",
   "metadata": {},
   "outputs": [
    {
     "name": "stdout",
     "output_type": "stream",
     "text": [
      "Not Eligible\n"
     ]
    }
   ],
   "source": [
    "high_income = False\n",
    "good_credit = True\n",
    "student = True\n",
    "\n",
    "if not student:\n",
    "    Worker = \"Eligible\"\n",
    "else:\n",
    "    Worker = \"Not Eligible\"\n",
    "print(Worker)"
   ]
  },
  {
   "cell_type": "code",
   "execution_count": 12,
   "id": "3f029d8d",
   "metadata": {},
   "outputs": [
    {
     "name": "stdout",
     "output_type": "stream",
     "text": [
      "Not Eligible\n"
     ]
    }
   ],
   "source": [
    "high_income = False\n",
    "good_credit = True\n",
    "student = False\n",
    "\n",
    "if (high_income or good_credit) and student:\n",
    "    Worker = \"Eligible\"\n",
    "else:\n",
    "    Worker = \"Not Eligible\"\n",
    "print(Worker)"
   ]
  },
  {
   "cell_type": "code",
   "execution_count": 13,
   "id": "13a7d901",
   "metadata": {},
   "outputs": [
    {
     "name": "stdout",
     "output_type": "stream",
     "text": [
      "Eligible\n"
     ]
    }
   ],
   "source": [
    "# age should be between 18 and 65\n",
    "age = 22\n",
    "if age >= 18 and age < 65: # if 18 <= age <65\n",
    "    print(\"Eligible\")\n",
    "    "
   ]
  },
  {
   "cell_type": "code",
   "execution_count": 14,
   "id": "3c982cbc",
   "metadata": {},
   "outputs": [
    {
     "name": "stdout",
     "output_type": "stream",
     "text": [
      "b\n"
     ]
    }
   ],
   "source": [
    "bag = 12\n",
    "apple = 3\n",
    "cat = 3\n",
    "if 10 == '10':\n",
    "    print(\"a\")\n",
    "elif bag > apple and bag > cat:\n",
    "    print(\"b\")\n",
    "else:\n",
    "    print(\"c\")"
   ]
  },
  {
   "cell_type": "code",
   "execution_count": 15,
   "id": "97bc93f1",
   "metadata": {},
   "outputs": [
    {
     "name": "stdout",
     "output_type": "stream",
     "text": [
      "Got a B+\n"
     ]
    }
   ],
   "source": [
    "grade = 87\n",
    "if grade > 100:\n",
    "    Femi = \"Got an A\"\n",
    "elif grade > 80:\n",
    "    if grade < 83:\n",
    "        Femi = \"Got a B-\"\n",
    "    elif grade < 87:\n",
    "        Femi = \"Got a B\"\n",
    "    else:\n",
    "        Femi = \"Got a B+\"\n",
    "    print(Femi)"
   ]
  },
  {
   "cell_type": "code",
   "execution_count": null,
   "id": "785a056f",
   "metadata": {},
   "outputs": [],
   "source": []
  },
  {
   "cell_type": "code",
   "execution_count": null,
   "id": "65ff3bb9",
   "metadata": {},
   "outputs": [],
   "source": []
  }
 ],
 "metadata": {
  "kernelspec": {
   "display_name": "Python 3 (ipykernel)",
   "language": "python",
   "name": "python3"
  },
  "language_info": {
   "codemirror_mode": {
    "name": "ipython",
    "version": 3
   },
   "file_extension": ".py",
   "mimetype": "text/x-python",
   "name": "python",
   "nbconvert_exporter": "python",
   "pygments_lexer": "ipython3",
   "version": "3.9.7"
  }
 },
 "nbformat": 4,
 "nbformat_minor": 5
}
